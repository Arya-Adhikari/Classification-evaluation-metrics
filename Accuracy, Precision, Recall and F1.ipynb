{
 "cells": [
  {
   "cell_type": "code",
   "execution_count": 7,
   "id": "44db27e4-305a-4175-aa2b-9ea4140e0939",
   "metadata": {},
   "outputs": [],
   "source": [
    "from sklearn.metrics import accuracy_score \n",
    "from sklearn.datasets import make_classification\n",
    "from sklearn.ensemble import RandomForestClassifier\n",
    "from sklearn.model_selection import train_test_split"
   ]
  },
  {
   "cell_type": "code",
   "execution_count": 16,
   "id": "e1ddfb01-9e2d-4cd3-942a-9e33eee2e69d",
   "metadata": {},
   "outputs": [],
   "source": [
    "# Generating Synthetic Data with 1000 samples and 10 features using random function\n",
    "X, y = make_classification(n_samples= 1000, n_features=10, random_state=42)\n",
    "\n",
    "# Dividing the dataset into Training set (X_train, y_train) and Testing set (X_test, y_test)\n",
    "X_train, X_test, y_train, y_test = train_test_split(X,y, test_size = 0.2, random_state=42)\n",
    "\n",
    "# Model Training\n",
    "# Step-1 : Create Classifier Instance\n",
    "model = RandomForestClassifier(random_state=42)\n",
    "\n",
    "# Step-2 : Fit the model using X_train, y_train\n",
    "model.fit(X_train, y_train)\n",
    "\n",
    "# Step-3 : Predict the output of the model using X_test and store into y_pred\n",
    "y_pred = model.predict(X_test)"
   ]
  },
  {
   "cell_type": "markdown",
   "id": "ce1eb8b6-9bba-4884-a02d-16345057892d",
   "metadata": {},
   "source": [
    "Accuracy"
   ]
  },
  {
   "cell_type": "code",
   "execution_count": 17,
   "id": "c48789b3-463a-4712-9247-1a9592bc4d7a",
   "metadata": {},
   "outputs": [
    {
     "name": "stdout",
     "output_type": "stream",
     "text": [
      "Accuracy: 0.88\n"
     ]
    }
   ],
   "source": [
    "# Calculate Accuracy using Accuracy Metrics\n",
    "accuracy = accuracy_score(y_test, y_pred)\n",
    "#accuracy\n",
    "print(f\"Accuracy: {accuracy:.2f}\")"
   ]
  },
  {
   "cell_type": "markdown",
   "id": "29ae111e-bd63-48c5-a348-cd7e93172d33",
   "metadata": {},
   "source": [
    "Precision"
   ]
  },
  {
   "cell_type": "code",
   "execution_count": 18,
   "id": "4835a342-5d77-4072-ad6e-9cb2c69821f7",
   "metadata": {},
   "outputs": [
    {
     "name": "stdout",
     "output_type": "stream",
     "text": [
      "Precision: 0.91\n"
     ]
    }
   ],
   "source": [
    "from sklearn.metrics import precision_score\n",
    "# Calculate Precision Score\n",
    "precision = precision_score(y_test, y_pred)\n",
    "# precision\n",
    "print(f\"Precision: {precision:.2f}\")"
   ]
  },
  {
   "cell_type": "markdown",
   "id": "91ac2056-dc3a-4246-9f38-c1b1e6d10539",
   "metadata": {},
   "source": [
    "Recall"
   ]
  },
  {
   "cell_type": "code",
   "execution_count": 20,
   "id": "21476cc5-722c-4240-a740-822c452631d3",
   "metadata": {},
   "outputs": [
    {
     "name": "stdout",
     "output_type": "stream",
     "text": [
      "Recall: 0.86\n"
     ]
    }
   ],
   "source": [
    "from sklearn.metrics import recall_score\n",
    "# Calculate Recall Score\n",
    "recall = recall_score(y_test, y_pred)\n",
    "# precision\n",
    "print(f\"Recall: {recall:.2f}\")"
   ]
  },
  {
   "cell_type": "markdown",
   "id": "6d928ad9-6c02-41cb-809b-cbaca3283209",
   "metadata": {},
   "source": [
    "F1"
   ]
  },
  {
   "cell_type": "code",
   "execution_count": 21,
   "id": "0565aac7-3019-4df1-b2d5-c61d7b75ceef",
   "metadata": {},
   "outputs": [
    {
     "name": "stdout",
     "output_type": "stream",
     "text": [
      "f1: 0.89\n"
     ]
    }
   ],
   "source": [
    "from sklearn.metrics import f1_score\n",
    "f1 = f1_score(y_test, y_pred)\n",
    "# f1\n",
    "print(f\"f1: {f1:.2f}\")"
   ]
  },
  {
   "cell_type": "markdown",
   "id": "6d5b912d-dfbe-4828-bbd3-b6f92336c048",
   "metadata": {},
   "source": [
    "Probability Prediction"
   ]
  },
  {
   "cell_type": "code",
   "execution_count": 23,
   "id": "3fd51cef-f323-4740-bb9e-9b07971414e1",
   "metadata": {},
   "outputs": [
    {
     "name": "stdout",
     "output_type": "stream",
     "text": [
      "ROC-AUC: 0.95\n"
     ]
    }
   ],
   "source": [
    "from sklearn.metrics import roc_auc_score\n",
    "# Probability Predictions\n",
    "y_prob = model.predict_proba(X_test)[:, 1]\n",
    "roc_auc =roc_auc_score(y_test, y_prob)\n",
    "print(f\"ROC-AUC: {roc_auc:.2f}\")"
   ]
  },
  {
   "cell_type": "code",
   "execution_count": null,
   "id": "cb8607d2-a018-4cd6-95b7-688ba92596b6",
   "metadata": {},
   "outputs": [],
   "source": []
  }
 ],
 "metadata": {
  "kernelspec": {
   "display_name": "Python 3 (ipykernel)",
   "language": "python",
   "name": "python3"
  },
  "language_info": {
   "codemirror_mode": {
    "name": "ipython",
    "version": 3
   },
   "file_extension": ".py",
   "mimetype": "text/x-python",
   "name": "python",
   "nbconvert_exporter": "python",
   "pygments_lexer": "ipython3",
   "version": "3.12.4"
  }
 },
 "nbformat": 4,
 "nbformat_minor": 5
}
